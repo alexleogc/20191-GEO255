{
 "cells": [
  {
   "cell_type": "code",
   "execution_count": 1,
   "metadata": {},
   "outputs": [],
   "source": [
    "import numpy as np\n",
    "import matplotlib.pyplot as plt"
   ]
  },
  {
   "cell_type": "code",
   "execution_count": 322,
   "metadata": {},
   "outputs": [],
   "source": [
    "def sismica_refr_up(x,v1,v2,h,delta):\n",
    "    t = np.zeros(len(x))\n",
    "    for i in range(0,len(x)):\n",
    "        theta = np.arcsin(v1/v2)\n",
    "        t_aux = (2*h/(v1*v2))*np.sqrt(v2**2 - v1**2) +( x[i]*(np.sin(theta+np.radians(delta)))/v1)\n",
    "        t_critico = (2*h/(v1*v2))*np.sqrt(v2**2 - v1**2)\n",
    "        if t_aux>t_critico:\n",
    "            t[i] = t_aux\n",
    "        else:\n",
    "            pass\n",
    "    print(t_critico)\n",
    "    return t\n",
    "\n",
    "def sismica_refr_down(x,v1,v2,h,delta):\n",
    "    t = np.zeros(len(x))\n",
    "    for i in range(0,len(x)):\n",
    "        theta = np.arcsin(v1/v2)\n",
    "        t_aux = (2*h/(v1*v2))*np.sqrt(v2**2 - v1**2) + (x.max()-x[i])*(np.sin(theta-np.radians(delta)))/v1\n",
    "        t_critico = (2*h/(v1*v2))*np.sqrt(v2**2 - v1**2)\n",
    "        if t_aux>t_critico:\n",
    "            t[i] = t_aux\n",
    "        else:\n",
    "            pass\n",
    "    return t\n",
    "\n",
    "def onda_direta(x,v):\n",
    "    return x/v"
   ]
  },
  {
   "cell_type": "code",
   "execution_count": 323,
   "metadata": {},
   "outputs": [
    {
     "data": {
      "text/plain": [
       "-1.0"
      ]
     },
     "execution_count": 323,
     "metadata": {},
     "output_type": "execute_result"
    }
   ],
   "source": [
    "np.cos(np.radians(180))"
   ]
  },
  {
   "cell_type": "code",
   "execution_count": 324,
   "metadata": {},
   "outputs": [],
   "source": [
    "x = np.arange(0,205,5)\n",
    "v1 = 2000\n",
    "v2 = 3000\n",
    "hc=30\n",
    "hd=70\n",
    "delta=20"
   ]
  },
  {
   "cell_type": "code",
   "execution_count": 325,
   "metadata": {},
   "outputs": [],
   "source": [
    "t_dir = onda_direta(x,v1)"
   ]
  },
  {
   "cell_type": "code",
   "execution_count": 326,
   "metadata": {},
   "outputs": [
    {
     "name": "stdout",
     "output_type": "stream",
     "text": [
      "0.0223606797749979\n"
     ]
    }
   ],
   "source": [
    "t_up = sismica_refr_up(x,v1,v2,hc,delta)"
   ]
  },
  {
   "cell_type": "code",
   "execution_count": 327,
   "metadata": {},
   "outputs": [],
   "source": [
    "t_down = sismica_refr_down(x,v1,v2,hd,delta)"
   ]
  },
  {
   "cell_type": "code",
   "execution_count": 328,
   "metadata": {},
   "outputs": [
    {
     "data": {
      "text/plain": [
       "<matplotlib.legend.Legend at 0x7f9e01a90a20>"
      ]
     },
     "execution_count": 328,
     "metadata": {},
     "output_type": "execute_result"
    },
    {
     "data": {
      "image/png": "[encoded data removed]",
      "text/plain": [
       "<Figure size 432x288 with 1 Axes>"
      ]
     },
     "metadata": {
      "needs_background": "light"
     },
     "output_type": "display_data"
    }
   ],
   "source": [
    "plt.xlim(0,200)\n",
    "plt.ylim(0,0.15)\n",
    "plt.gca().invert_yaxis()\n",
    "plt.xlabel('Receptores (m)')\n",
    "plt.ylabel('Tempo de chegada (s)')\n",
    "plt.plot(x,t_dir,label='direta')\n",
    "plt.plot(x[t_up>0],t_up[t_up>0],label='up_dip')\n",
    "plt.plot(x[t_down>0],t_down[t_down>0],label='down_dip')\n",
    "plt.legend()"
   ]
  },
  {
   "cell_type": "code",
   "execution_count": 329,
   "metadata": {},
   "outputs": [
    {
     "data": {
      "text/plain": [
       "0.05310375693451293"
      ]
     },
     "execution_count": 329,
     "metadata": {},
     "output_type": "execute_result"
    }
   ],
   "source": [
    "t_down[t_down>0].min()"
   ]
  },
  {
   "cell_type": "code",
   "execution_count": 306,
   "metadata": {},
   "outputs": [
    {
     "data": {
      "text/plain": [
       "0.024564151051433093"
      ]
     },
     "execution_count": 306,
     "metadata": {},
     "output_type": "execute_result"
    }
   ],
   "source": [
    "t_up[t_up>0].min()"
   ]
  },
  {
   "cell_type": "code",
   "execution_count": 311,
   "metadata": {},
   "outputs": [
    {
     "data": {
      "text/plain": [
       "0.0004406942552870387"
      ]
     },
     "execution_count": 311,
     "metadata": {},
     "output_type": "execute_result"
    }
   ],
   "source": [
    "au = (t_up[20]-t_up[10])/(x[20]-x[10])\n",
    "au"
   ]
  },
  {
   "cell_type": "code",
   "execution_count": 312,
   "metadata": {},
   "outputs": [
    {
     "data": {
      "text/plain": [
       "2269.146892665227"
      ]
     },
     "execution_count": 312,
     "metadata": {},
     "output_type": "execute_result"
    }
   ],
   "source": [
    "1/au"
   ]
  },
  {
   "cell_type": "code",
   "execution_count": 319,
   "metadata": {},
   "outputs": [
    {
     "data": {
      "text/plain": [
       "0.00018576749190356677"
      ]
     },
     "execution_count": 319,
     "metadata": {},
     "output_type": "execute_result"
    }
   ],
   "source": [
    "ad = (t_down[10]-t_down[20])/(x[20]-x[10])\n",
    "ad"
   ]
  },
  {
   "cell_type": "code",
   "execution_count": 320,
   "metadata": {},
   "outputs": [
    {
     "data": {
      "text/plain": [
       "5383.073161794676"
      ]
     },
     "execution_count": 320,
     "metadata": {},
     "output_type": "execute_result"
    }
   ],
   "source": [
    "1/ad"
   ]
  },
  {
   "cell_type": "code",
   "execution_count": null,
   "metadata": {},
   "outputs": [],
   "source": []
  }
 ],
 "metadata": {
  "kernelspec": {
   "display_name": "Python 3",
   "language": "python",
   "name": "python3"
  },
  "language_info": {
   "codemirror_mode": {
    "name": "ipython",
    "version": 3
   },
   "file_extension": ".py",
   "mimetype": "text/x-python",
   "name": "python",
   "nbconvert_exporter": "python",
   "pygments_lexer": "ipython3",
   "version": "3.7.3"
  }
 },
 "nbformat": 4,
 "nbformat_minor": 2
}
